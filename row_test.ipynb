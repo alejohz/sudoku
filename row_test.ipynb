{
 "cells": [
  {
   "cell_type": "code",
   "execution_count": 7,
   "metadata": {},
   "outputs": [],
   "source": [
    "import numpy as np\n",
    "\"\"\"\n",
    "%pip install gdown\n",
    "%gdown 1iOdA7wG3kKk3OgPDSC4Z4014eCoCKV6C \n",
    "code to download the sudoku.csv file from google drive.\n",
    "Code snippet to extract sudokus from file 'sudoku.csv'\n",
    "https://www.kaggle.com/datasets/bryanpark/sudoku\n",
    "\"\"\"\n",
    "\n",
    "quizzes = np.zeros((1000000, 81), np.int32)\n",
    "solutions = np.zeros((1000000, 81), np.int32)\n",
    "for i, line in enumerate(open('sudoku copy.csv', 'r').read().splitlines()[1:]):\n",
    "    quiz, solution = line.split(\",\")\n",
    "    for j, q_s in enumerate(zip(quiz, solution)):\n",
    "        q, s = q_s\n",
    "        quizzes[i, j] = q\n",
    "        solutions[i, j] = s\n",
    "quizzes = quizzes.reshape((-1, 9, 9))\n",
    "solutions = solutions.reshape((-1, 9, 9))\n"
   ]
  },
  {
   "cell_type": "code",
   "execution_count": 10,
   "metadata": {},
   "outputs": [],
   "source": [
    "s = list([list(i) for i in quizzes[0]])\n"
   ]
  },
  {
   "cell_type": "code",
   "execution_count": 3,
   "metadata": {},
   "outputs": [],
   "source": [
    "import sudoku\n"
   ]
  },
  {
   "cell_type": "code",
   "execution_count": 4,
   "metadata": {},
   "outputs": [
    {
     "name": "stdout",
     "output_type": "stream",
     "text": [
      "Generation 11 -Best candidate's fitness 0 -Worst candidate's fitness 6\n",
      "CPU times: user 21.9 s, sys: 14.2 ms, total: 21.9 s\n",
      "Wall time: 21.9 s\n",
      "0\n",
      "[[5 3 8 9 1 2 6 7 4]\n",
      " [8 6 7 3 9 5 2 1 4]\n",
      " [4 5 1 6 8 9 7 3 2]\n",
      " [3 7 2 1 6 4 8 5 9]\n",
      " [7 5 6 4 3 8 9 2 1]\n",
      " [1 9 5 2 7 3 4 8 6]\n",
      " [2 8 9 5 4 7 1 6 3]\n",
      " [6 2 4 8 5 1 3 9 7]\n",
      " [9 1 3 7 2 6 5 4 8]]\n",
      "Generation 82 -Best candidate's fitness 0 -Worst candidate's fitness 4\n",
      "CPU times: user 2min 27s, sys: 0 ns, total: 2min 27s\n",
      "Wall time: 2min 27s\n",
      "0\n",
      "Generation 9 -Best candidate's fitness 0 -Worst candidate's fitness 8\n",
      "CPU times: user 23.3 s, sys: 3.76 ms, total: 23.3 s\n",
      "Wall time: 23.3 s\n",
      "0\n"
     ]
    }
   ],
   "source": [
    "solver = sudoku.Sudoku(s, inter_change=\"row\")\n",
    "%time sol, ftns, ftns_history = solver.solve(cross_over=\"swap\")\n",
    "print(ftns)\n",
    "solver = sudoku.Sudoku(s, inter_change=\"column\")\n",
    "%time sol, ftns, ftns_history = solver.solve(cross_over=\"swap\")\n",
    "print(ftns)\n",
    "solver = sudoku.Sudoku(s, inter_change=\"square\")\n",
    "%time sol, ftns, ftns_history = solver.solve(cross_over=\"swap\")\n",
    "print(ftns)"
   ]
  },
  {
   "cell_type": "code",
   "execution_count": 12,
   "metadata": {},
   "outputs": [
    {
     "name": "stdout",
     "output_type": "stream",
     "text": [
      "[[6 4 2 1 7 9 3 5 8]\n",
      " [1 8 7 5 4 3 9 6 2]\n",
      " [5 2 9 7 1 8 4 3 6]\n",
      " [9 6 8 4 3 5 2 1 7]\n",
      " [3 1 4 9 2 6 8 7 5]\n",
      " [8 7 3 4 5 1 6 2 9]\n",
      " [7 9 1 8 6 2 5 4 3]\n",
      " [6 3 5 2 8 4 7 9 1]\n",
      " [2 5 6 3 9 7 1 8 4]]\n",
      "Generation 78 -Best candidate's fitness 0 -Worst candidate's fitness 4\n",
      "CPU times: user 2min 53s, sys: 59.8 ms, total: 2min 53s\n",
      "Wall time: 2min 53s\n",
      "0\n",
      "Generation 14 -Best candidate's fitness 0 -Worst candidate's fitness 4\n",
      "CPU times: user 34.4 s, sys: 0 ns, total: 34.4 s\n",
      "Wall time: 34.4 s\n",
      "0\n",
      "Generation 11 -Best candidate's fitness 0 -Worst candidate's fitness 5\n",
      "CPU times: user 28.2 s, sys: 0 ns, total: 28.2 s\n",
      "Wall time: 28.2 s\n",
      "0\n"
     ]
    }
   ],
   "source": [
    "s = list([list(i) for i in quizzes[1]])\n",
    "solver = sudoku.Sudoku(s, inter_change=\"row\")\n",
    "%time sol, ftns, ftns_history = solver.solve(cross_over=\"swap\")\n",
    "print(ftns)\n",
    "solver = sudoku.Sudoku(s, inter_change=\"column\")\n",
    "%time sol, ftns, ftns_history = solver.solve(cross_over=\"swap\")\n",
    "print(ftns)\n",
    "solver = sudoku.Sudoku(s, inter_change=\"square\")\n",
    "%time sol, ftns, ftns_history = solver.solve(cross_over=\"swap\")\n",
    "print(ftns)"
   ]
  },
  {
   "cell_type": "code",
   "execution_count": 13,
   "metadata": {},
   "outputs": [
    {
     "name": "stdout",
     "output_type": "stream",
     "text": [
      "[[3 4 6 1 7 9 2 5 8]\n",
      " [1 8 7 2 4 3 9 6 5]\n",
      " [5 2 9 3 1 8 4 7 6]\n",
      " [9 6 4 8 2 5 3 1 7]\n",
      " [4 1 5 9 3 6 8 7 2]\n",
      " [8 7 3 4 5 1 6 2 9]\n",
      " [7 9 1 8 6 2 5 4 3]\n",
      " [6 3 2 5 8 4 7 9 1]\n",
      " [2 5 8 6 9 7 1 3 4]]\n",
      "CPU times: user 3min 42s, sys: 0 ns, total: 3min 42s\n",
      "Wall time: 3min 42s\n",
      "2\n",
      "Generation 16 -Best candidate's fitness 0 -Worst candidate's fitness 3\n",
      "CPU times: user 39.9 s, sys: 9.88 ms, total: 39.9 s\n",
      "Wall time: 39.9 s\n",
      "0\n",
      "Generation 10 -Best candidate's fitness 0 -Worst candidate's fitness 6\n",
      "CPU times: user 26.5 s, sys: 0 ns, total: 26.5 s\n",
      "Wall time: 26.5 s\n",
      "0\n"
     ]
    }
   ],
   "source": [
    "s = list([list(i) for i in quizzes[1]])\n",
    "solver = sudoku.Sudoku(s, inter_change=\"row\")\n",
    "%time sol, ftns, ftns_history = solver.solve(cross_over=\"swap\")\n",
    "print(ftns)\n",
    "solver = sudoku.Sudoku(s, inter_change=\"column\")\n",
    "%time sol, ftns, ftns_history = solver.solve(cross_over=\"swap\")\n",
    "print(ftns)\n",
    "solver = sudoku.Sudoku(s, inter_change=\"square\")\n",
    "%time sol, ftns, ftns_history = solver.solve(cross_over=\"swap\")\n",
    "print(ftns)"
   ]
  },
  {
   "cell_type": "code",
   "execution_count": 14,
   "metadata": {},
   "outputs": [
    {
     "name": "stdout",
     "output_type": "stream",
     "text": [
      "[[6 9 5 1 2 7 3 8 4]\n",
      " [1 3 8 4 5 9 6 7 2]\n",
      " [7 2 1 3 9 6 8 4 5]\n",
      " [8 5 1 2 6 4 9 3 7]\n",
      " [4 7 3 9 8 2 5 1 6]\n",
      " [9 4 6 5 1 3 7 2 8]\n",
      " [3 1 7 6 4 8 2 5 9]\n",
      " [2 8 9 7 3 5 4 6 1]\n",
      " [5 6 2 8 7 4 1 9 3]]\n",
      "CPU times: user 3min 48s, sys: 20 ms, total: 3min 48s\n",
      "Wall time: 3min 48s\n",
      "2\n",
      "Generation 16 -Best candidate's fitness 0 -Worst candidate's fitness 2\n",
      "CPU times: user 43.8 s, sys: 10 ms, total: 43.8 s\n",
      "Wall time: 43.8 s\n",
      "0\n",
      "Generation 11 -Best candidate's fitness 0 -Worst candidate's fitness 6\n",
      "CPU times: user 28.9 s, sys: 0 ns, total: 28.9 s\n",
      "Wall time: 28.9 s\n",
      "0\n"
     ]
    }
   ],
   "source": [
    "s = list([list(i) for i in quizzes[2]])\n",
    "solver = sudoku.Sudoku(s, inter_change=\"row\")\n",
    "%time sol, ftns, ftns_history = solver.solve(cross_over=\"swap\")\n",
    "print(ftns)\n",
    "solver = sudoku.Sudoku(s, inter_change=\"column\")\n",
    "%time sol, ftns, ftns_history = solver.solve(cross_over=\"swap\")\n",
    "print(ftns)\n",
    "solver = sudoku.Sudoku(s, inter_change=\"square\")\n",
    "%time sol, ftns, ftns_history = solver.solve(cross_over=\"swap\")\n",
    "print(ftns)"
   ]
  },
  {
   "cell_type": "code",
   "execution_count": 15,
   "metadata": {},
   "outputs": [
    {
     "name": "stdout",
     "output_type": "stream",
     "text": [
      "Generation 11 -Best candidate's fitness 0 -Worst candidate's fitness 4\n",
      "CPU times: user 31.1 s, sys: 10 ms, total: 31.1 s\n",
      "Wall time: 31.1 s\n",
      "0\n",
      "Generation 14 -Best candidate's fitness 0 -Worst candidate's fitness 2\n",
      "CPU times: user 35.4 s, sys: 4 µs, total: 35.4 s\n",
      "Wall time: 35.4 s\n",
      "0\n",
      "Generation 12 -Best candidate's fitness 0 -Worst candidate's fitness 4\n",
      "CPU times: user 30.8 s, sys: 0 ns, total: 30.8 s\n",
      "Wall time: 30.8 s\n",
      "0\n"
     ]
    }
   ],
   "source": [
    "s = list([list(i) for i in quizzes[3]])\n",
    "solver = sudoku.Sudoku(s, inter_change=\"row\")\n",
    "%time sol, ftns, ftns_history = solver.solve(cross_over=\"swap\")\n",
    "print(ftns)\n",
    "solver = sudoku.Sudoku(s, inter_change=\"column\")\n",
    "%time sol, ftns, ftns_history = solver.solve(cross_over=\"swap\")\n",
    "print(ftns)\n",
    "solver = sudoku.Sudoku(s, inter_change=\"square\")\n",
    "%time sol, ftns, ftns_history = solver.solve(cross_over=\"swap\")\n",
    "print(ftns)"
   ]
  },
  {
   "cell_type": "code",
   "execution_count": 16,
   "metadata": {},
   "outputs": [
    {
     "name": "stdout",
     "output_type": "stream",
     "text": [
      "Generation 30 -Best candidate's fitness 0 -Worst candidate's fitness 2\n",
      "CPU times: user 1min 8s, sys: 20 ms, total: 1min 8s\n",
      "Wall time: 1min 8s\n",
      "0\n",
      "[[2 7 3 9 5 1 4 6 8]\n",
      " [7 5 2 3 6 8 1 4 9]\n",
      " [5 9 7 8 4 6 2 3 1]\n",
      " [9 4 5 7 8 2 3 1 6]\n",
      " [1 9 4 6 2 3 8 5 7]\n",
      " [6 3 8 4 1 7 9 2 5]\n",
      " [3 8 1 2 9 5 6 7 4]\n",
      " [4 6 9 5 3 1 7 8 2]\n",
      " [8 2 6 1 7 4 5 9 3]]\n",
      "Generation 85 -Best candidate's fitness 0 -Worst candidate's fitness 2\n",
      "CPU times: user 3min 14s, sys: 0 ns, total: 3min 14s\n",
      "Wall time: 3min 14s\n",
      "0\n",
      "Generation 12 -Best candidate's fitness 0 -Worst candidate's fitness 4\n",
      "CPU times: user 31.5 s, sys: 20 ms, total: 31.6 s\n",
      "Wall time: 31.6 s\n",
      "0\n"
     ]
    }
   ],
   "source": [
    "s = list([list(i) for i in quizzes[4]])\n",
    "solver = sudoku.Sudoku(s, inter_change=\"row\")\n",
    "%time sol, ftns, ftns_history = solver.solve(cross_over=\"swap\")\n",
    "print(ftns)\n",
    "solver = sudoku.Sudoku(s, inter_change=\"column\")\n",
    "%time sol, ftns, ftns_history = solver.solve(cross_over=\"swap\")\n",
    "print(ftns)\n",
    "solver = sudoku.Sudoku(s, inter_change=\"square\")\n",
    "%time sol, ftns, ftns_history = solver.solve(cross_over=\"swap\")\n",
    "print(ftns)"
   ]
  },
  {
   "cell_type": "code",
   "execution_count": 17,
   "metadata": {},
   "outputs": [
    {
     "name": "stdout",
     "output_type": "stream",
     "text": [
      "Generation 17 -Best candidate's fitness 0 -Worst candidate's fitness 3\n",
      "CPU times: user 40.9 s, sys: 1.18 ms, total: 40.9 s\n",
      "Wall time: 40.9 s\n",
      "0\n",
      "[[1 3 6 8 5 4 2 9 7]\n",
      " [3 8 7 2 4 6 1 5 9]\n",
      " [6 2 3 4 1 9 5 7 8]\n",
      " [4 9 2 3 7 5 8 6 1]\n",
      " [8 1 5 9 6 7 3 2 4]\n",
      " [5 4 7 1 3 2 9 8 6]\n",
      " [2 5 4 6 9 8 7 1 3]\n",
      " [9 1 8 7 2 3 6 4 5]\n",
      " [7 6 9 5 8 1 4 3 2]]\n",
      "CPU times: user 3min 43s, sys: 0 ns, total: 3min 43s\n",
      "Wall time: 3min 43s\n",
      "2\n",
      "Generation 11 -Best candidate's fitness 0 -Worst candidate's fitness 6\n",
      "CPU times: user 28.1 s, sys: 0 ns, total: 28.1 s\n",
      "Wall time: 28.1 s\n",
      "0\n"
     ]
    }
   ],
   "source": [
    "s = list([list(i) for i in quizzes[5]])\n",
    "solver = sudoku.Sudoku(s, inter_change=\"row\")\n",
    "%time sol, ftns, ftns_history = solver.solve(cross_over=\"swap\")\n",
    "print(ftns)\n",
    "solver = sudoku.Sudoku(s, inter_change=\"column\")\n",
    "%time sol, ftns, ftns_history = solver.solve(cross_over=\"swap\")\n",
    "print(ftns)\n",
    "solver = sudoku.Sudoku(s, inter_change=\"square\")\n",
    "%time sol, ftns, ftns_history = solver.solve(cross_over=\"swap\")\n",
    "print(ftns)"
   ]
  },
  {
   "cell_type": "code",
   "execution_count": 18,
   "metadata": {},
   "outputs": [
    {
     "name": "stdout",
     "output_type": "stream",
     "text": [
      "[[2 8 9 7 6 5 4 3 1]\n",
      " [9 4 7 6 3 2 8 1 5]\n",
      " [6 9 5 1 7 8 3 2 4]\n",
      " [6 1 3 8 9 4 7 5 2]\n",
      " [5 7 1 4 2 3 9 6 8]\n",
      " [8 2 4 9 5 6 1 7 3]\n",
      " [4 3 2 5 1 9 6 8 7]\n",
      " [1 5 6 3 8 7 2 4 9]\n",
      " [3 7 8 2 4 1 5 9 6]]\n",
      "CPU times: user 3min 43s, sys: 0 ns, total: 3min 43s\n",
      "Wall time: 3min 43s\n",
      "2\n",
      "[[2 9 6 1 5 8 4 7 3]\n",
      " [8 1 4 6 2 9 3 5 7]\n",
      " [9 7 5 3 1 4 2 6 8]\n",
      " [7 6 1 8 4 3 5 9 2]\n",
      " [6 5 3 9 7 2 1 8 4]\n",
      " [5 2 8 4 3 6 9 7 1]\n",
      " [4 8 7 2 9 1 6 3 5]\n",
      " [3 4 2 5 6 7 8 1 9]\n",
      " [1 3 9 2 8 5 7 4 6]]\n",
      "Generation 82 -Best candidate's fitness 0 -Worst candidate's fitness 2\n",
      "CPU times: user 3min 6s, sys: 30 ms, total: 3min 6s\n",
      "Wall time: 3min 6s\n",
      "0\n",
      "Generation 11 -Best candidate's fitness 0 -Worst candidate's fitness 4\n",
      "CPU times: user 28.6 s, sys: 0 ns, total: 28.6 s\n",
      "Wall time: 28.6 s\n",
      "0\n"
     ]
    }
   ],
   "source": [
    "s = list([list(i) for i in quizzes[6]])\n",
    "solver = sudoku.Sudoku(s, inter_change=\"row\")\n",
    "%time sol, ftns, ftns_history = solver.solve(cross_over=\"swap\")\n",
    "print(ftns)\n",
    "solver = sudoku.Sudoku(s, inter_change=\"column\")\n",
    "%time sol, ftns, ftns_history = solver.solve(cross_over=\"swap\")\n",
    "print(ftns)\n",
    "solver = sudoku.Sudoku(s, inter_change=\"square\")\n",
    "%time sol, ftns, ftns_history = solver.solve(cross_over=\"swap\")\n",
    "print(ftns)"
   ]
  }
 ],
 "metadata": {
  "kernelspec": {
   "display_name": "Python 3.10.4 ('opti-venv')",
   "language": "python",
   "name": "python3"
  },
  "language_info": {
   "codemirror_mode": {
    "name": "ipython",
    "version": 3
   },
   "file_extension": ".py",
   "mimetype": "text/x-python",
   "name": "python",
   "nbconvert_exporter": "python",
   "pygments_lexer": "ipython3",
   "version": "3.10.4"
  },
  "orig_nbformat": 4,
  "vscode": {
   "interpreter": {
    "hash": "973998f273a953a1e91c10bd7a706218d1cb5e5fad7f11cf4222be8c4b850fa8"
   }
  }
 },
 "nbformat": 4,
 "nbformat_minor": 2
}
